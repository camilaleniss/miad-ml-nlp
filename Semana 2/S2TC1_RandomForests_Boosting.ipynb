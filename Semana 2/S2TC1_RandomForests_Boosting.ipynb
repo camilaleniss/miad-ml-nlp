{
  "cells": [
    {
      "cell_type": "markdown",
      "metadata": {
        "id": "KEw-fG5Kbb9p"
      },
      "source": [
        "![image info](https://raw.githubusercontent.com/albahnsen/MIAD_ML_and_NLP/main/images/banner_1.png)"
      ]
    },
    {
      "cell_type": "markdown",
      "source": [
        "#Equipo 33\n",
        "\n",
        "*   Oscar Camilo Alvarez Torres\n",
        "*   Guillermo Ariza\n",
        "*   Ronaldo Ballesteros Salguero\n",
        "*   Camila Lenis"
      ],
      "metadata": {
        "id": "95PR5JmdfNZJ"
      }
    },
    {
      "cell_type": "markdown",
      "metadata": {
        "id": "DOOTK72Jbb9q"
      },
      "source": [
        "# Taller: Construcción e implementación de modelos Bagging, Random Forest y XGBoost\n",
        "\n",
        "En este taller podrán poner en práctica sus conocimientos sobre la construcción e implementación de modelos de Bagging, Random Forest y XGBoost. El taller está constituido por 8 puntos, en los cuales deberan seguir las intrucciones de cada numeral para su desarrollo."
      ]
    },
    {
      "cell_type": "markdown",
      "metadata": {
        "id": "e2sJUK3Pbb9r"
      },
      "source": [
        "## Datos predicción precio de automóviles\n",
        "\n",
        "En este taller se usará el conjunto de datos de Car Listings de Kaggle donde cada observación representa el precio de un automóvil teniendo en cuenta distintas variables como año, marca, modelo, entre otras. El objetivo es predecir el precio del automóvil. Para más detalles puede visitar el siguiente enlace: [datos](https://www.kaggle.com/jpayne/852k-used-car-listings)."
      ]
    },
    {
      "cell_type": "code",
      "execution_count": 3,
      "metadata": {
        "id": "_EZ1ExdHbb9s"
      },
      "outputs": [],
      "source": [
        "import warnings\n",
        "warnings.filterwarnings('ignore')"
      ]
    },
    {
      "cell_type": "code",
      "source": [
        "# Importación de librerías\n",
        "%matplotlib inline\n",
        "import pandas as pd\n",
        "import numpy as np\n",
        "import matplotlib.pyplot as plt\n",
        "from sklearn.ensemble import BaggingRegressor\n",
        "from sklearn.tree import DecisionTreeRegressor\n",
        "from sklearn.metrics import mean_squared_error\n",
        "from sklearn.ensemble import RandomForestRegressor\n",
        "from sklearn.model_selection import cross_val_score\n",
        "from xgboost import XGBRegressor"
      ],
      "metadata": {
        "id": "MMCcE8VuhkQy"
      },
      "execution_count": 4,
      "outputs": []
    },
    {
      "cell_type": "code",
      "execution_count": 5,
      "metadata": {
        "id": "OIteXOeMbb9t",
        "outputId": "6e7243d8-bbe3-487c-ca29-04b075b80784",
        "colab": {
          "base_uri": "https://localhost:8080/",
          "height": 206
        }
      },
      "outputs": [
        {
          "output_type": "execute_result",
          "data": {
            "text/plain": [
              "     Price  Year  Mileage  M_Camry  M_Camry4dr  M_CamryBase  M_CamryL  \\\n",
              "7    21995  2014     6480    False       False        False      True   \n",
              "11   13995  2014    39972    False       False        False     False   \n",
              "167  17941  2016    18989    False       False        False     False   \n",
              "225  12493  2014    51330    False       False        False      True   \n",
              "270   7994  2007   116065    False        True        False     False   \n",
              "\n",
              "     M_CamryLE  M_CamrySE  M_CamryXLE  \n",
              "7        False      False       False  \n",
              "11        True      False       False  \n",
              "167      False       True       False  \n",
              "225      False      False       False  \n",
              "270      False      False       False  "
            ],
            "text/html": [
              "\n",
              "  <div id=\"df-fc3ab9f4-5a68-4b7d-bb31-77a6c2fe7697\" class=\"colab-df-container\">\n",
              "    <div>\n",
              "<style scoped>\n",
              "    .dataframe tbody tr th:only-of-type {\n",
              "        vertical-align: middle;\n",
              "    }\n",
              "\n",
              "    .dataframe tbody tr th {\n",
              "        vertical-align: top;\n",
              "    }\n",
              "\n",
              "    .dataframe thead th {\n",
              "        text-align: right;\n",
              "    }\n",
              "</style>\n",
              "<table border=\"1\" class=\"dataframe\">\n",
              "  <thead>\n",
              "    <tr style=\"text-align: right;\">\n",
              "      <th></th>\n",
              "      <th>Price</th>\n",
              "      <th>Year</th>\n",
              "      <th>Mileage</th>\n",
              "      <th>M_Camry</th>\n",
              "      <th>M_Camry4dr</th>\n",
              "      <th>M_CamryBase</th>\n",
              "      <th>M_CamryL</th>\n",
              "      <th>M_CamryLE</th>\n",
              "      <th>M_CamrySE</th>\n",
              "      <th>M_CamryXLE</th>\n",
              "    </tr>\n",
              "  </thead>\n",
              "  <tbody>\n",
              "    <tr>\n",
              "      <th>7</th>\n",
              "      <td>21995</td>\n",
              "      <td>2014</td>\n",
              "      <td>6480</td>\n",
              "      <td>False</td>\n",
              "      <td>False</td>\n",
              "      <td>False</td>\n",
              "      <td>True</td>\n",
              "      <td>False</td>\n",
              "      <td>False</td>\n",
              "      <td>False</td>\n",
              "    </tr>\n",
              "    <tr>\n",
              "      <th>11</th>\n",
              "      <td>13995</td>\n",
              "      <td>2014</td>\n",
              "      <td>39972</td>\n",
              "      <td>False</td>\n",
              "      <td>False</td>\n",
              "      <td>False</td>\n",
              "      <td>False</td>\n",
              "      <td>True</td>\n",
              "      <td>False</td>\n",
              "      <td>False</td>\n",
              "    </tr>\n",
              "    <tr>\n",
              "      <th>167</th>\n",
              "      <td>17941</td>\n",
              "      <td>2016</td>\n",
              "      <td>18989</td>\n",
              "      <td>False</td>\n",
              "      <td>False</td>\n",
              "      <td>False</td>\n",
              "      <td>False</td>\n",
              "      <td>False</td>\n",
              "      <td>True</td>\n",
              "      <td>False</td>\n",
              "    </tr>\n",
              "    <tr>\n",
              "      <th>225</th>\n",
              "      <td>12493</td>\n",
              "      <td>2014</td>\n",
              "      <td>51330</td>\n",
              "      <td>False</td>\n",
              "      <td>False</td>\n",
              "      <td>False</td>\n",
              "      <td>True</td>\n",
              "      <td>False</td>\n",
              "      <td>False</td>\n",
              "      <td>False</td>\n",
              "    </tr>\n",
              "    <tr>\n",
              "      <th>270</th>\n",
              "      <td>7994</td>\n",
              "      <td>2007</td>\n",
              "      <td>116065</td>\n",
              "      <td>False</td>\n",
              "      <td>True</td>\n",
              "      <td>False</td>\n",
              "      <td>False</td>\n",
              "      <td>False</td>\n",
              "      <td>False</td>\n",
              "      <td>False</td>\n",
              "    </tr>\n",
              "  </tbody>\n",
              "</table>\n",
              "</div>\n",
              "    <div class=\"colab-df-buttons\">\n",
              "\n",
              "  <div class=\"colab-df-container\">\n",
              "    <button class=\"colab-df-convert\" onclick=\"convertToInteractive('df-fc3ab9f4-5a68-4b7d-bb31-77a6c2fe7697')\"\n",
              "            title=\"Convert this dataframe to an interactive table.\"\n",
              "            style=\"display:none;\">\n",
              "\n",
              "  <svg xmlns=\"http://www.w3.org/2000/svg\" height=\"24px\" viewBox=\"0 -960 960 960\">\n",
              "    <path d=\"M120-120v-720h720v720H120Zm60-500h600v-160H180v160Zm220 220h160v-160H400v160Zm0 220h160v-160H400v160ZM180-400h160v-160H180v160Zm440 0h160v-160H620v160ZM180-180h160v-160H180v160Zm440 0h160v-160H620v160Z\"/>\n",
              "  </svg>\n",
              "    </button>\n",
              "\n",
              "  <style>\n",
              "    .colab-df-container {\n",
              "      display:flex;\n",
              "      gap: 12px;\n",
              "    }\n",
              "\n",
              "    .colab-df-convert {\n",
              "      background-color: #E8F0FE;\n",
              "      border: none;\n",
              "      border-radius: 50%;\n",
              "      cursor: pointer;\n",
              "      display: none;\n",
              "      fill: #1967D2;\n",
              "      height: 32px;\n",
              "      padding: 0 0 0 0;\n",
              "      width: 32px;\n",
              "    }\n",
              "\n",
              "    .colab-df-convert:hover {\n",
              "      background-color: #E2EBFA;\n",
              "      box-shadow: 0px 1px 2px rgba(60, 64, 67, 0.3), 0px 1px 3px 1px rgba(60, 64, 67, 0.15);\n",
              "      fill: #174EA6;\n",
              "    }\n",
              "\n",
              "    .colab-df-buttons div {\n",
              "      margin-bottom: 4px;\n",
              "    }\n",
              "\n",
              "    [theme=dark] .colab-df-convert {\n",
              "      background-color: #3B4455;\n",
              "      fill: #D2E3FC;\n",
              "    }\n",
              "\n",
              "    [theme=dark] .colab-df-convert:hover {\n",
              "      background-color: #434B5C;\n",
              "      box-shadow: 0px 1px 3px 1px rgba(0, 0, 0, 0.15);\n",
              "      filter: drop-shadow(0px 1px 2px rgba(0, 0, 0, 0.3));\n",
              "      fill: #FFFFFF;\n",
              "    }\n",
              "  </style>\n",
              "\n",
              "    <script>\n",
              "      const buttonEl =\n",
              "        document.querySelector('#df-fc3ab9f4-5a68-4b7d-bb31-77a6c2fe7697 button.colab-df-convert');\n",
              "      buttonEl.style.display =\n",
              "        google.colab.kernel.accessAllowed ? 'block' : 'none';\n",
              "\n",
              "      async function convertToInteractive(key) {\n",
              "        const element = document.querySelector('#df-fc3ab9f4-5a68-4b7d-bb31-77a6c2fe7697');\n",
              "        const dataTable =\n",
              "          await google.colab.kernel.invokeFunction('convertToInteractive',\n",
              "                                                    [key], {});\n",
              "        if (!dataTable) return;\n",
              "\n",
              "        const docLinkHtml = 'Like what you see? Visit the ' +\n",
              "          '<a target=\"_blank\" href=https://colab.research.google.com/notebooks/data_table.ipynb>data table notebook</a>'\n",
              "          + ' to learn more about interactive tables.';\n",
              "        element.innerHTML = '';\n",
              "        dataTable['output_type'] = 'display_data';\n",
              "        await google.colab.output.renderOutput(dataTable, element);\n",
              "        const docLink = document.createElement('div');\n",
              "        docLink.innerHTML = docLinkHtml;\n",
              "        element.appendChild(docLink);\n",
              "      }\n",
              "    </script>\n",
              "  </div>\n",
              "\n",
              "\n",
              "<div id=\"df-e1590abe-f995-45d6-959b-4274add08908\">\n",
              "  <button class=\"colab-df-quickchart\" onclick=\"quickchart('df-e1590abe-f995-45d6-959b-4274add08908')\"\n",
              "            title=\"Suggest charts\"\n",
              "            style=\"display:none;\">\n",
              "\n",
              "<svg xmlns=\"http://www.w3.org/2000/svg\" height=\"24px\"viewBox=\"0 0 24 24\"\n",
              "     width=\"24px\">\n",
              "    <g>\n",
              "        <path d=\"M19 3H5c-1.1 0-2 .9-2 2v14c0 1.1.9 2 2 2h14c1.1 0 2-.9 2-2V5c0-1.1-.9-2-2-2zM9 17H7v-7h2v7zm4 0h-2V7h2v10zm4 0h-2v-4h2v4z\"/>\n",
              "    </g>\n",
              "</svg>\n",
              "  </button>\n",
              "\n",
              "<style>\n",
              "  .colab-df-quickchart {\n",
              "      --bg-color: #E8F0FE;\n",
              "      --fill-color: #1967D2;\n",
              "      --hover-bg-color: #E2EBFA;\n",
              "      --hover-fill-color: #174EA6;\n",
              "      --disabled-fill-color: #AAA;\n",
              "      --disabled-bg-color: #DDD;\n",
              "  }\n",
              "\n",
              "  [theme=dark] .colab-df-quickchart {\n",
              "      --bg-color: #3B4455;\n",
              "      --fill-color: #D2E3FC;\n",
              "      --hover-bg-color: #434B5C;\n",
              "      --hover-fill-color: #FFFFFF;\n",
              "      --disabled-bg-color: #3B4455;\n",
              "      --disabled-fill-color: #666;\n",
              "  }\n",
              "\n",
              "  .colab-df-quickchart {\n",
              "    background-color: var(--bg-color);\n",
              "    border: none;\n",
              "    border-radius: 50%;\n",
              "    cursor: pointer;\n",
              "    display: none;\n",
              "    fill: var(--fill-color);\n",
              "    height: 32px;\n",
              "    padding: 0;\n",
              "    width: 32px;\n",
              "  }\n",
              "\n",
              "  .colab-df-quickchart:hover {\n",
              "    background-color: var(--hover-bg-color);\n",
              "    box-shadow: 0 1px 2px rgba(60, 64, 67, 0.3), 0 1px 3px 1px rgba(60, 64, 67, 0.15);\n",
              "    fill: var(--button-hover-fill-color);\n",
              "  }\n",
              "\n",
              "  .colab-df-quickchart-complete:disabled,\n",
              "  .colab-df-quickchart-complete:disabled:hover {\n",
              "    background-color: var(--disabled-bg-color);\n",
              "    fill: var(--disabled-fill-color);\n",
              "    box-shadow: none;\n",
              "  }\n",
              "\n",
              "  .colab-df-spinner {\n",
              "    border: 2px solid var(--fill-color);\n",
              "    border-color: transparent;\n",
              "    border-bottom-color: var(--fill-color);\n",
              "    animation:\n",
              "      spin 1s steps(1) infinite;\n",
              "  }\n",
              "\n",
              "  @keyframes spin {\n",
              "    0% {\n",
              "      border-color: transparent;\n",
              "      border-bottom-color: var(--fill-color);\n",
              "      border-left-color: var(--fill-color);\n",
              "    }\n",
              "    20% {\n",
              "      border-color: transparent;\n",
              "      border-left-color: var(--fill-color);\n",
              "      border-top-color: var(--fill-color);\n",
              "    }\n",
              "    30% {\n",
              "      border-color: transparent;\n",
              "      border-left-color: var(--fill-color);\n",
              "      border-top-color: var(--fill-color);\n",
              "      border-right-color: var(--fill-color);\n",
              "    }\n",
              "    40% {\n",
              "      border-color: transparent;\n",
              "      border-right-color: var(--fill-color);\n",
              "      border-top-color: var(--fill-color);\n",
              "    }\n",
              "    60% {\n",
              "      border-color: transparent;\n",
              "      border-right-color: var(--fill-color);\n",
              "    }\n",
              "    80% {\n",
              "      border-color: transparent;\n",
              "      border-right-color: var(--fill-color);\n",
              "      border-bottom-color: var(--fill-color);\n",
              "    }\n",
              "    90% {\n",
              "      border-color: transparent;\n",
              "      border-bottom-color: var(--fill-color);\n",
              "    }\n",
              "  }\n",
              "</style>\n",
              "\n",
              "  <script>\n",
              "    async function quickchart(key) {\n",
              "      const quickchartButtonEl =\n",
              "        document.querySelector('#' + key + ' button');\n",
              "      quickchartButtonEl.disabled = true;  // To prevent multiple clicks.\n",
              "      quickchartButtonEl.classList.add('colab-df-spinner');\n",
              "      try {\n",
              "        const charts = await google.colab.kernel.invokeFunction(\n",
              "            'suggestCharts', [key], {});\n",
              "      } catch (error) {\n",
              "        console.error('Error during call to suggestCharts:', error);\n",
              "      }\n",
              "      quickchartButtonEl.classList.remove('colab-df-spinner');\n",
              "      quickchartButtonEl.classList.add('colab-df-quickchart-complete');\n",
              "    }\n",
              "    (() => {\n",
              "      let quickchartButtonEl =\n",
              "        document.querySelector('#df-e1590abe-f995-45d6-959b-4274add08908 button');\n",
              "      quickchartButtonEl.style.display =\n",
              "        google.colab.kernel.accessAllowed ? 'block' : 'none';\n",
              "    })();\n",
              "  </script>\n",
              "</div>\n",
              "\n",
              "    </div>\n",
              "  </div>\n"
            ],
            "application/vnd.google.colaboratory.intrinsic+json": {
              "type": "dataframe",
              "variable_name": "data",
              "summary": "{\n  \"name\": \"data\",\n  \"rows\": 10495,\n  \"fields\": [\n    {\n      \"column\": \"Price\",\n      \"properties\": {\n        \"dtype\": \"number\",\n        \"std\": 3922,\n        \"min\": 5002,\n        \"max\": 32444,\n        \"num_unique_values\": 3660,\n        \"samples\": [\n          15285,\n          17966,\n          13787\n        ],\n        \"semantic_type\": \"\",\n        \"description\": \"\"\n      }\n    },\n    {\n      \"column\": \"Year\",\n      \"properties\": {\n        \"dtype\": \"number\",\n        \"std\": 3,\n        \"min\": 1998,\n        \"max\": 2018,\n        \"num_unique_values\": 20,\n        \"samples\": [\n          2014,\n          2018,\n          2002\n        ],\n        \"semantic_type\": \"\",\n        \"description\": \"\"\n      }\n    },\n    {\n      \"column\": \"Mileage\",\n      \"properties\": {\n        \"dtype\": \"number\",\n        \"std\": 36791,\n        \"min\": 5,\n        \"max\": 232658,\n        \"num_unique_values\": 9913,\n        \"samples\": [\n          91918,\n          24261,\n          100093\n        ],\n        \"semantic_type\": \"\",\n        \"description\": \"\"\n      }\n    },\n    {\n      \"column\": \"M_Camry\",\n      \"properties\": {\n        \"dtype\": \"boolean\",\n        \"num_unique_values\": 2,\n        \"samples\": [\n          true,\n          false\n        ],\n        \"semantic_type\": \"\",\n        \"description\": \"\"\n      }\n    },\n    {\n      \"column\": \"M_Camry4dr\",\n      \"properties\": {\n        \"dtype\": \"boolean\",\n        \"num_unique_values\": 2,\n        \"samples\": [\n          true,\n          false\n        ],\n        \"semantic_type\": \"\",\n        \"description\": \"\"\n      }\n    },\n    {\n      \"column\": \"M_CamryBase\",\n      \"properties\": {\n        \"dtype\": \"boolean\",\n        \"num_unique_values\": 2,\n        \"samples\": [\n          true,\n          false\n        ],\n        \"semantic_type\": \"\",\n        \"description\": \"\"\n      }\n    },\n    {\n      \"column\": \"M_CamryL\",\n      \"properties\": {\n        \"dtype\": \"boolean\",\n        \"num_unique_values\": 2,\n        \"samples\": [\n          false,\n          true\n        ],\n        \"semantic_type\": \"\",\n        \"description\": \"\"\n      }\n    },\n    {\n      \"column\": \"M_CamryLE\",\n      \"properties\": {\n        \"dtype\": \"boolean\",\n        \"num_unique_values\": 2,\n        \"samples\": [\n          true,\n          false\n        ],\n        \"semantic_type\": \"\",\n        \"description\": \"\"\n      }\n    },\n    {\n      \"column\": \"M_CamrySE\",\n      \"properties\": {\n        \"dtype\": \"boolean\",\n        \"num_unique_values\": 2,\n        \"samples\": [\n          true,\n          false\n        ],\n        \"semantic_type\": \"\",\n        \"description\": \"\"\n      }\n    },\n    {\n      \"column\": \"M_CamryXLE\",\n      \"properties\": {\n        \"dtype\": \"boolean\",\n        \"num_unique_values\": 2,\n        \"samples\": [\n          true,\n          false\n        ],\n        \"semantic_type\": \"\",\n        \"description\": \"\"\n      }\n    }\n  ]\n}"
            }
          },
          "metadata": {},
          "execution_count": 5
        }
      ],
      "source": [
        "# Lectura de la información de archivo .csv\n",
        "data = pd.read_csv('https://raw.githubusercontent.com/albahnsen/MIAD_ML_and_NLP/main/datasets/dataTrain_carListings.zip')\n",
        "\n",
        "# Preprocesamiento de datos para el taller\n",
        "data = data.loc[data['Model'].str.contains('Camry')].drop(['Make', 'State'], axis=1)\n",
        "data = data.join(pd.get_dummies(data['Model'], prefix='M'))\n",
        "data = data.drop(['Model'], axis=1)\n",
        "\n",
        "# Visualización dataset\n",
        "data.head()"
      ]
    },
    {
      "cell_type": "code",
      "source": [
        "data.describe().T"
      ],
      "metadata": {
        "id": "7LhHJ0PxOoEl",
        "outputId": "e7ff9a93-687a-464e-ffd5-b400e344c27a",
        "colab": {
          "base_uri": "https://localhost:8080/",
          "height": 143
        }
      },
      "execution_count": 6,
      "outputs": [
        {
          "output_type": "execute_result",
          "data": {
            "text/plain": [
              "           count          mean           std     min      25%      50%  \\\n",
              "Price    10495.0  14538.403716   3922.420961  5002.0  11999.0  15000.0   \n",
              "Year     10495.0   2013.553883      3.116585  1998.0   2012.0   2014.0   \n",
              "Mileage  10495.0  52509.430395  36791.736601     5.0  26461.0  41680.0   \n",
              "\n",
              "             75%       max  \n",
              "Price    16999.0   32444.0  \n",
              "Year      2016.0    2018.0  \n",
              "Mileage  71355.5  232658.0  "
            ],
            "text/html": [
              "\n",
              "  <div id=\"df-8aae0fa0-040b-4605-b749-9ad779b69ae8\" class=\"colab-df-container\">\n",
              "    <div>\n",
              "<style scoped>\n",
              "    .dataframe tbody tr th:only-of-type {\n",
              "        vertical-align: middle;\n",
              "    }\n",
              "\n",
              "    .dataframe tbody tr th {\n",
              "        vertical-align: top;\n",
              "    }\n",
              "\n",
              "    .dataframe thead th {\n",
              "        text-align: right;\n",
              "    }\n",
              "</style>\n",
              "<table border=\"1\" class=\"dataframe\">\n",
              "  <thead>\n",
              "    <tr style=\"text-align: right;\">\n",
              "      <th></th>\n",
              "      <th>count</th>\n",
              "      <th>mean</th>\n",
              "      <th>std</th>\n",
              "      <th>min</th>\n",
              "      <th>25%</th>\n",
              "      <th>50%</th>\n",
              "      <th>75%</th>\n",
              "      <th>max</th>\n",
              "    </tr>\n",
              "  </thead>\n",
              "  <tbody>\n",
              "    <tr>\n",
              "      <th>Price</th>\n",
              "      <td>10495.0</td>\n",
              "      <td>14538.403716</td>\n",
              "      <td>3922.420961</td>\n",
              "      <td>5002.0</td>\n",
              "      <td>11999.0</td>\n",
              "      <td>15000.0</td>\n",
              "      <td>16999.0</td>\n",
              "      <td>32444.0</td>\n",
              "    </tr>\n",
              "    <tr>\n",
              "      <th>Year</th>\n",
              "      <td>10495.0</td>\n",
              "      <td>2013.553883</td>\n",
              "      <td>3.116585</td>\n",
              "      <td>1998.0</td>\n",
              "      <td>2012.0</td>\n",
              "      <td>2014.0</td>\n",
              "      <td>2016.0</td>\n",
              "      <td>2018.0</td>\n",
              "    </tr>\n",
              "    <tr>\n",
              "      <th>Mileage</th>\n",
              "      <td>10495.0</td>\n",
              "      <td>52509.430395</td>\n",
              "      <td>36791.736601</td>\n",
              "      <td>5.0</td>\n",
              "      <td>26461.0</td>\n",
              "      <td>41680.0</td>\n",
              "      <td>71355.5</td>\n",
              "      <td>232658.0</td>\n",
              "    </tr>\n",
              "  </tbody>\n",
              "</table>\n",
              "</div>\n",
              "    <div class=\"colab-df-buttons\">\n",
              "\n",
              "  <div class=\"colab-df-container\">\n",
              "    <button class=\"colab-df-convert\" onclick=\"convertToInteractive('df-8aae0fa0-040b-4605-b749-9ad779b69ae8')\"\n",
              "            title=\"Convert this dataframe to an interactive table.\"\n",
              "            style=\"display:none;\">\n",
              "\n",
              "  <svg xmlns=\"http://www.w3.org/2000/svg\" height=\"24px\" viewBox=\"0 -960 960 960\">\n",
              "    <path d=\"M120-120v-720h720v720H120Zm60-500h600v-160H180v160Zm220 220h160v-160H400v160Zm0 220h160v-160H400v160ZM180-400h160v-160H180v160Zm440 0h160v-160H620v160ZM180-180h160v-160H180v160Zm440 0h160v-160H620v160Z\"/>\n",
              "  </svg>\n",
              "    </button>\n",
              "\n",
              "  <style>\n",
              "    .colab-df-container {\n",
              "      display:flex;\n",
              "      gap: 12px;\n",
              "    }\n",
              "\n",
              "    .colab-df-convert {\n",
              "      background-color: #E8F0FE;\n",
              "      border: none;\n",
              "      border-radius: 50%;\n",
              "      cursor: pointer;\n",
              "      display: none;\n",
              "      fill: #1967D2;\n",
              "      height: 32px;\n",
              "      padding: 0 0 0 0;\n",
              "      width: 32px;\n",
              "    }\n",
              "\n",
              "    .colab-df-convert:hover {\n",
              "      background-color: #E2EBFA;\n",
              "      box-shadow: 0px 1px 2px rgba(60, 64, 67, 0.3), 0px 1px 3px 1px rgba(60, 64, 67, 0.15);\n",
              "      fill: #174EA6;\n",
              "    }\n",
              "\n",
              "    .colab-df-buttons div {\n",
              "      margin-bottom: 4px;\n",
              "    }\n",
              "\n",
              "    [theme=dark] .colab-df-convert {\n",
              "      background-color: #3B4455;\n",
              "      fill: #D2E3FC;\n",
              "    }\n",
              "\n",
              "    [theme=dark] .colab-df-convert:hover {\n",
              "      background-color: #434B5C;\n",
              "      box-shadow: 0px 1px 3px 1px rgba(0, 0, 0, 0.15);\n",
              "      filter: drop-shadow(0px 1px 2px rgba(0, 0, 0, 0.3));\n",
              "      fill: #FFFFFF;\n",
              "    }\n",
              "  </style>\n",
              "\n",
              "    <script>\n",
              "      const buttonEl =\n",
              "        document.querySelector('#df-8aae0fa0-040b-4605-b749-9ad779b69ae8 button.colab-df-convert');\n",
              "      buttonEl.style.display =\n",
              "        google.colab.kernel.accessAllowed ? 'block' : 'none';\n",
              "\n",
              "      async function convertToInteractive(key) {\n",
              "        const element = document.querySelector('#df-8aae0fa0-040b-4605-b749-9ad779b69ae8');\n",
              "        const dataTable =\n",
              "          await google.colab.kernel.invokeFunction('convertToInteractive',\n",
              "                                                    [key], {});\n",
              "        if (!dataTable) return;\n",
              "\n",
              "        const docLinkHtml = 'Like what you see? Visit the ' +\n",
              "          '<a target=\"_blank\" href=https://colab.research.google.com/notebooks/data_table.ipynb>data table notebook</a>'\n",
              "          + ' to learn more about interactive tables.';\n",
              "        element.innerHTML = '';\n",
              "        dataTable['output_type'] = 'display_data';\n",
              "        await google.colab.output.renderOutput(dataTable, element);\n",
              "        const docLink = document.createElement('div');\n",
              "        docLink.innerHTML = docLinkHtml;\n",
              "        element.appendChild(docLink);\n",
              "      }\n",
              "    </script>\n",
              "  </div>\n",
              "\n",
              "\n",
              "<div id=\"df-d8eab353-7a42-4609-a93b-07b0446d373e\">\n",
              "  <button class=\"colab-df-quickchart\" onclick=\"quickchart('df-d8eab353-7a42-4609-a93b-07b0446d373e')\"\n",
              "            title=\"Suggest charts\"\n",
              "            style=\"display:none;\">\n",
              "\n",
              "<svg xmlns=\"http://www.w3.org/2000/svg\" height=\"24px\"viewBox=\"0 0 24 24\"\n",
              "     width=\"24px\">\n",
              "    <g>\n",
              "        <path d=\"M19 3H5c-1.1 0-2 .9-2 2v14c0 1.1.9 2 2 2h14c1.1 0 2-.9 2-2V5c0-1.1-.9-2-2-2zM9 17H7v-7h2v7zm4 0h-2V7h2v10zm4 0h-2v-4h2v4z\"/>\n",
              "    </g>\n",
              "</svg>\n",
              "  </button>\n",
              "\n",
              "<style>\n",
              "  .colab-df-quickchart {\n",
              "      --bg-color: #E8F0FE;\n",
              "      --fill-color: #1967D2;\n",
              "      --hover-bg-color: #E2EBFA;\n",
              "      --hover-fill-color: #174EA6;\n",
              "      --disabled-fill-color: #AAA;\n",
              "      --disabled-bg-color: #DDD;\n",
              "  }\n",
              "\n",
              "  [theme=dark] .colab-df-quickchart {\n",
              "      --bg-color: #3B4455;\n",
              "      --fill-color: #D2E3FC;\n",
              "      --hover-bg-color: #434B5C;\n",
              "      --hover-fill-color: #FFFFFF;\n",
              "      --disabled-bg-color: #3B4455;\n",
              "      --disabled-fill-color: #666;\n",
              "  }\n",
              "\n",
              "  .colab-df-quickchart {\n",
              "    background-color: var(--bg-color);\n",
              "    border: none;\n",
              "    border-radius: 50%;\n",
              "    cursor: pointer;\n",
              "    display: none;\n",
              "    fill: var(--fill-color);\n",
              "    height: 32px;\n",
              "    padding: 0;\n",
              "    width: 32px;\n",
              "  }\n",
              "\n",
              "  .colab-df-quickchart:hover {\n",
              "    background-color: var(--hover-bg-color);\n",
              "    box-shadow: 0 1px 2px rgba(60, 64, 67, 0.3), 0 1px 3px 1px rgba(60, 64, 67, 0.15);\n",
              "    fill: var(--button-hover-fill-color);\n",
              "  }\n",
              "\n",
              "  .colab-df-quickchart-complete:disabled,\n",
              "  .colab-df-quickchart-complete:disabled:hover {\n",
              "    background-color: var(--disabled-bg-color);\n",
              "    fill: var(--disabled-fill-color);\n",
              "    box-shadow: none;\n",
              "  }\n",
              "\n",
              "  .colab-df-spinner {\n",
              "    border: 2px solid var(--fill-color);\n",
              "    border-color: transparent;\n",
              "    border-bottom-color: var(--fill-color);\n",
              "    animation:\n",
              "      spin 1s steps(1) infinite;\n",
              "  }\n",
              "\n",
              "  @keyframes spin {\n",
              "    0% {\n",
              "      border-color: transparent;\n",
              "      border-bottom-color: var(--fill-color);\n",
              "      border-left-color: var(--fill-color);\n",
              "    }\n",
              "    20% {\n",
              "      border-color: transparent;\n",
              "      border-left-color: var(--fill-color);\n",
              "      border-top-color: var(--fill-color);\n",
              "    }\n",
              "    30% {\n",
              "      border-color: transparent;\n",
              "      border-left-color: var(--fill-color);\n",
              "      border-top-color: var(--fill-color);\n",
              "      border-right-color: var(--fill-color);\n",
              "    }\n",
              "    40% {\n",
              "      border-color: transparent;\n",
              "      border-right-color: var(--fill-color);\n",
              "      border-top-color: var(--fill-color);\n",
              "    }\n",
              "    60% {\n",
              "      border-color: transparent;\n",
              "      border-right-color: var(--fill-color);\n",
              "    }\n",
              "    80% {\n",
              "      border-color: transparent;\n",
              "      border-right-color: var(--fill-color);\n",
              "      border-bottom-color: var(--fill-color);\n",
              "    }\n",
              "    90% {\n",
              "      border-color: transparent;\n",
              "      border-bottom-color: var(--fill-color);\n",
              "    }\n",
              "  }\n",
              "</style>\n",
              "\n",
              "  <script>\n",
              "    async function quickchart(key) {\n",
              "      const quickchartButtonEl =\n",
              "        document.querySelector('#' + key + ' button');\n",
              "      quickchartButtonEl.disabled = true;  // To prevent multiple clicks.\n",
              "      quickchartButtonEl.classList.add('colab-df-spinner');\n",
              "      try {\n",
              "        const charts = await google.colab.kernel.invokeFunction(\n",
              "            'suggestCharts', [key], {});\n",
              "      } catch (error) {\n",
              "        console.error('Error during call to suggestCharts:', error);\n",
              "      }\n",
              "      quickchartButtonEl.classList.remove('colab-df-spinner');\n",
              "      quickchartButtonEl.classList.add('colab-df-quickchart-complete');\n",
              "    }\n",
              "    (() => {\n",
              "      let quickchartButtonEl =\n",
              "        document.querySelector('#df-d8eab353-7a42-4609-a93b-07b0446d373e button');\n",
              "      quickchartButtonEl.style.display =\n",
              "        google.colab.kernel.accessAllowed ? 'block' : 'none';\n",
              "    })();\n",
              "  </script>\n",
              "</div>\n",
              "\n",
              "    </div>\n",
              "  </div>\n"
            ],
            "application/vnd.google.colaboratory.intrinsic+json": {
              "type": "dataframe",
              "summary": "{\n  \"name\": \"data\",\n  \"rows\": 3,\n  \"fields\": [\n    {\n      \"column\": \"count\",\n      \"properties\": {\n        \"dtype\": \"number\",\n        \"std\": 0.0,\n        \"min\": 10495.0,\n        \"max\": 10495.0,\n        \"num_unique_values\": 1,\n        \"samples\": [\n          10495.0\n        ],\n        \"semantic_type\": \"\",\n        \"description\": \"\"\n      }\n    },\n    {\n      \"column\": \"mean\",\n      \"properties\": {\n        \"dtype\": \"number\",\n        \"std\": 26294.816584292028,\n        \"min\": 2013.5538828013339,\n        \"max\": 52509.430395426396,\n        \"num_unique_values\": 3,\n        \"samples\": [\n          14538.403716055265\n        ],\n        \"semantic_type\": \"\",\n        \"description\": \"\"\n      }\n    },\n    {\n      \"column\": \"std\",\n      \"properties\": {\n        \"dtype\": \"number\",\n        \"std\": 20203.776132702093,\n        \"min\": 3.116584789558821,\n        \"max\": 36791.73660099132,\n        \"num_unique_values\": 3,\n        \"samples\": [\n          3922.420961158631\n        ],\n        \"semantic_type\": \"\",\n        \"description\": \"\"\n      }\n    },\n    {\n      \"column\": \"min\",\n      \"properties\": {\n        \"dtype\": \"number\",\n        \"std\": 2515.48782545255,\n        \"min\": 5.0,\n        \"max\": 5002.0,\n        \"num_unique_values\": 3,\n        \"samples\": [\n          5002.0\n        ],\n        \"semantic_type\": \"\",\n        \"description\": \"\"\n      }\n    },\n    {\n      \"column\": \"25%\",\n      \"properties\": {\n        \"dtype\": \"number\",\n        \"std\": 12292.566954600383,\n        \"min\": 2012.0,\n        \"max\": 26461.0,\n        \"num_unique_values\": 3,\n        \"samples\": [\n          11999.0\n        ],\n        \"semantic_type\": \"\",\n        \"description\": \"\"\n      }\n    },\n    {\n      \"column\": \"50%\",\n      \"properties\": {\n        \"dtype\": \"number\",\n        \"std\": 20223.13094783628,\n        \"min\": 2014.0,\n        \"max\": 41680.0,\n        \"num_unique_values\": 3,\n        \"samples\": [\n          15000.0\n        ],\n        \"semantic_type\": \"\",\n        \"description\": \"\"\n      }\n    },\n    {\n      \"column\": \"75%\",\n      \"properties\": {\n        \"dtype\": \"number\",\n        \"std\": 36485.35240682211,\n        \"min\": 2016.0,\n        \"max\": 71355.5,\n        \"num_unique_values\": 3,\n        \"samples\": [\n          16999.0\n        ],\n        \"semantic_type\": \"\",\n        \"description\": \"\"\n      }\n    },\n    {\n      \"column\": \"max\",\n      \"properties\": {\n        \"dtype\": \"number\",\n        \"std\": 125303.76216219527,\n        \"min\": 2018.0,\n        \"max\": 232658.0,\n        \"num_unique_values\": 3,\n        \"samples\": [\n          32444.0\n        ],\n        \"semantic_type\": \"\",\n        \"description\": \"\"\n      }\n    }\n  ]\n}"
            }
          },
          "metadata": {},
          "execution_count": 6
        }
      ]
    },
    {
      "cell_type": "code",
      "execution_count": 7,
      "metadata": {
        "id": "6skbxuJybb9t",
        "colab": {
          "base_uri": "https://localhost:8080/",
          "height": 206
        },
        "outputId": "8f7722e6-7c79-4b54-b155-8753dea9c2f3"
      },
      "outputs": [
        {
          "output_type": "execute_result",
          "data": {
            "text/plain": [
              "     Year  Mileage  M_Camry  M_Camry4dr  M_CamryBase  M_CamryL  M_CamryLE  \\\n",
              "7    2014     6480        0           0            0         0          0   \n",
              "11   2014    39972        0           0            0         1          1   \n",
              "167  2016    18989        0           0            0         1          0   \n",
              "225  2014    51330        0           0            0         0          0   \n",
              "270  2007   116065        0           1            0         1          0   \n",
              "\n",
              "     M_CamrySE  M_CamryXLE  \n",
              "7            0           0  \n",
              "11           0           0  \n",
              "167          1           0  \n",
              "225          0           0  \n",
              "270          0           0  "
            ],
            "text/html": [
              "\n",
              "  <div id=\"df-fe63ca9c-d0d9-4a19-b313-2b2a1c6fe1b8\" class=\"colab-df-container\">\n",
              "    <div>\n",
              "<style scoped>\n",
              "    .dataframe tbody tr th:only-of-type {\n",
              "        vertical-align: middle;\n",
              "    }\n",
              "\n",
              "    .dataframe tbody tr th {\n",
              "        vertical-align: top;\n",
              "    }\n",
              "\n",
              "    .dataframe thead th {\n",
              "        text-align: right;\n",
              "    }\n",
              "</style>\n",
              "<table border=\"1\" class=\"dataframe\">\n",
              "  <thead>\n",
              "    <tr style=\"text-align: right;\">\n",
              "      <th></th>\n",
              "      <th>Year</th>\n",
              "      <th>Mileage</th>\n",
              "      <th>M_Camry</th>\n",
              "      <th>M_Camry4dr</th>\n",
              "      <th>M_CamryBase</th>\n",
              "      <th>M_CamryL</th>\n",
              "      <th>M_CamryLE</th>\n",
              "      <th>M_CamrySE</th>\n",
              "      <th>M_CamryXLE</th>\n",
              "    </tr>\n",
              "  </thead>\n",
              "  <tbody>\n",
              "    <tr>\n",
              "      <th>7</th>\n",
              "      <td>2014</td>\n",
              "      <td>6480</td>\n",
              "      <td>0</td>\n",
              "      <td>0</td>\n",
              "      <td>0</td>\n",
              "      <td>0</td>\n",
              "      <td>0</td>\n",
              "      <td>0</td>\n",
              "      <td>0</td>\n",
              "    </tr>\n",
              "    <tr>\n",
              "      <th>11</th>\n",
              "      <td>2014</td>\n",
              "      <td>39972</td>\n",
              "      <td>0</td>\n",
              "      <td>0</td>\n",
              "      <td>0</td>\n",
              "      <td>1</td>\n",
              "      <td>1</td>\n",
              "      <td>0</td>\n",
              "      <td>0</td>\n",
              "    </tr>\n",
              "    <tr>\n",
              "      <th>167</th>\n",
              "      <td>2016</td>\n",
              "      <td>18989</td>\n",
              "      <td>0</td>\n",
              "      <td>0</td>\n",
              "      <td>0</td>\n",
              "      <td>1</td>\n",
              "      <td>0</td>\n",
              "      <td>1</td>\n",
              "      <td>0</td>\n",
              "    </tr>\n",
              "    <tr>\n",
              "      <th>225</th>\n",
              "      <td>2014</td>\n",
              "      <td>51330</td>\n",
              "      <td>0</td>\n",
              "      <td>0</td>\n",
              "      <td>0</td>\n",
              "      <td>0</td>\n",
              "      <td>0</td>\n",
              "      <td>0</td>\n",
              "      <td>0</td>\n",
              "    </tr>\n",
              "    <tr>\n",
              "      <th>270</th>\n",
              "      <td>2007</td>\n",
              "      <td>116065</td>\n",
              "      <td>0</td>\n",
              "      <td>1</td>\n",
              "      <td>0</td>\n",
              "      <td>1</td>\n",
              "      <td>0</td>\n",
              "      <td>0</td>\n",
              "      <td>0</td>\n",
              "    </tr>\n",
              "  </tbody>\n",
              "</table>\n",
              "</div>\n",
              "    <div class=\"colab-df-buttons\">\n",
              "\n",
              "  <div class=\"colab-df-container\">\n",
              "    <button class=\"colab-df-convert\" onclick=\"convertToInteractive('df-fe63ca9c-d0d9-4a19-b313-2b2a1c6fe1b8')\"\n",
              "            title=\"Convert this dataframe to an interactive table.\"\n",
              "            style=\"display:none;\">\n",
              "\n",
              "  <svg xmlns=\"http://www.w3.org/2000/svg\" height=\"24px\" viewBox=\"0 -960 960 960\">\n",
              "    <path d=\"M120-120v-720h720v720H120Zm60-500h600v-160H180v160Zm220 220h160v-160H400v160Zm0 220h160v-160H400v160ZM180-400h160v-160H180v160Zm440 0h160v-160H620v160ZM180-180h160v-160H180v160Zm440 0h160v-160H620v160Z\"/>\n",
              "  </svg>\n",
              "    </button>\n",
              "\n",
              "  <style>\n",
              "    .colab-df-container {\n",
              "      display:flex;\n",
              "      gap: 12px;\n",
              "    }\n",
              "\n",
              "    .colab-df-convert {\n",
              "      background-color: #E8F0FE;\n",
              "      border: none;\n",
              "      border-radius: 50%;\n",
              "      cursor: pointer;\n",
              "      display: none;\n",
              "      fill: #1967D2;\n",
              "      height: 32px;\n",
              "      padding: 0 0 0 0;\n",
              "      width: 32px;\n",
              "    }\n",
              "\n",
              "    .colab-df-convert:hover {\n",
              "      background-color: #E2EBFA;\n",
              "      box-shadow: 0px 1px 2px rgba(60, 64, 67, 0.3), 0px 1px 3px 1px rgba(60, 64, 67, 0.15);\n",
              "      fill: #174EA6;\n",
              "    }\n",
              "\n",
              "    .colab-df-buttons div {\n",
              "      margin-bottom: 4px;\n",
              "    }\n",
              "\n",
              "    [theme=dark] .colab-df-convert {\n",
              "      background-color: #3B4455;\n",
              "      fill: #D2E3FC;\n",
              "    }\n",
              "\n",
              "    [theme=dark] .colab-df-convert:hover {\n",
              "      background-color: #434B5C;\n",
              "      box-shadow: 0px 1px 3px 1px rgba(0, 0, 0, 0.15);\n",
              "      filter: drop-shadow(0px 1px 2px rgba(0, 0, 0, 0.3));\n",
              "      fill: #FFFFFF;\n",
              "    }\n",
              "  </style>\n",
              "\n",
              "    <script>\n",
              "      const buttonEl =\n",
              "        document.querySelector('#df-fe63ca9c-d0d9-4a19-b313-2b2a1c6fe1b8 button.colab-df-convert');\n",
              "      buttonEl.style.display =\n",
              "        google.colab.kernel.accessAllowed ? 'block' : 'none';\n",
              "\n",
              "      async function convertToInteractive(key) {\n",
              "        const element = document.querySelector('#df-fe63ca9c-d0d9-4a19-b313-2b2a1c6fe1b8');\n",
              "        const dataTable =\n",
              "          await google.colab.kernel.invokeFunction('convertToInteractive',\n",
              "                                                    [key], {});\n",
              "        if (!dataTable) return;\n",
              "\n",
              "        const docLinkHtml = 'Like what you see? Visit the ' +\n",
              "          '<a target=\"_blank\" href=https://colab.research.google.com/notebooks/data_table.ipynb>data table notebook</a>'\n",
              "          + ' to learn more about interactive tables.';\n",
              "        element.innerHTML = '';\n",
              "        dataTable['output_type'] = 'display_data';\n",
              "        await google.colab.output.renderOutput(dataTable, element);\n",
              "        const docLink = document.createElement('div');\n",
              "        docLink.innerHTML = docLinkHtml;\n",
              "        element.appendChild(docLink);\n",
              "      }\n",
              "    </script>\n",
              "  </div>\n",
              "\n",
              "\n",
              "<div id=\"df-0be89a08-f19f-4c65-9601-8c07cd0c36e2\">\n",
              "  <button class=\"colab-df-quickchart\" onclick=\"quickchart('df-0be89a08-f19f-4c65-9601-8c07cd0c36e2')\"\n",
              "            title=\"Suggest charts\"\n",
              "            style=\"display:none;\">\n",
              "\n",
              "<svg xmlns=\"http://www.w3.org/2000/svg\" height=\"24px\"viewBox=\"0 0 24 24\"\n",
              "     width=\"24px\">\n",
              "    <g>\n",
              "        <path d=\"M19 3H5c-1.1 0-2 .9-2 2v14c0 1.1.9 2 2 2h14c1.1 0 2-.9 2-2V5c0-1.1-.9-2-2-2zM9 17H7v-7h2v7zm4 0h-2V7h2v10zm4 0h-2v-4h2v4z\"/>\n",
              "    </g>\n",
              "</svg>\n",
              "  </button>\n",
              "\n",
              "<style>\n",
              "  .colab-df-quickchart {\n",
              "      --bg-color: #E8F0FE;\n",
              "      --fill-color: #1967D2;\n",
              "      --hover-bg-color: #E2EBFA;\n",
              "      --hover-fill-color: #174EA6;\n",
              "      --disabled-fill-color: #AAA;\n",
              "      --disabled-bg-color: #DDD;\n",
              "  }\n",
              "\n",
              "  [theme=dark] .colab-df-quickchart {\n",
              "      --bg-color: #3B4455;\n",
              "      --fill-color: #D2E3FC;\n",
              "      --hover-bg-color: #434B5C;\n",
              "      --hover-fill-color: #FFFFFF;\n",
              "      --disabled-bg-color: #3B4455;\n",
              "      --disabled-fill-color: #666;\n",
              "  }\n",
              "\n",
              "  .colab-df-quickchart {\n",
              "    background-color: var(--bg-color);\n",
              "    border: none;\n",
              "    border-radius: 50%;\n",
              "    cursor: pointer;\n",
              "    display: none;\n",
              "    fill: var(--fill-color);\n",
              "    height: 32px;\n",
              "    padding: 0;\n",
              "    width: 32px;\n",
              "  }\n",
              "\n",
              "  .colab-df-quickchart:hover {\n",
              "    background-color: var(--hover-bg-color);\n",
              "    box-shadow: 0 1px 2px rgba(60, 64, 67, 0.3), 0 1px 3px 1px rgba(60, 64, 67, 0.15);\n",
              "    fill: var(--button-hover-fill-color);\n",
              "  }\n",
              "\n",
              "  .colab-df-quickchart-complete:disabled,\n",
              "  .colab-df-quickchart-complete:disabled:hover {\n",
              "    background-color: var(--disabled-bg-color);\n",
              "    fill: var(--disabled-fill-color);\n",
              "    box-shadow: none;\n",
              "  }\n",
              "\n",
              "  .colab-df-spinner {\n",
              "    border: 2px solid var(--fill-color);\n",
              "    border-color: transparent;\n",
              "    border-bottom-color: var(--fill-color);\n",
              "    animation:\n",
              "      spin 1s steps(1) infinite;\n",
              "  }\n",
              "\n",
              "  @keyframes spin {\n",
              "    0% {\n",
              "      border-color: transparent;\n",
              "      border-bottom-color: var(--fill-color);\n",
              "      border-left-color: var(--fill-color);\n",
              "    }\n",
              "    20% {\n",
              "      border-color: transparent;\n",
              "      border-left-color: var(--fill-color);\n",
              "      border-top-color: var(--fill-color);\n",
              "    }\n",
              "    30% {\n",
              "      border-color: transparent;\n",
              "      border-left-color: var(--fill-color);\n",
              "      border-top-color: var(--fill-color);\n",
              "      border-right-color: var(--fill-color);\n",
              "    }\n",
              "    40% {\n",
              "      border-color: transparent;\n",
              "      border-right-color: var(--fill-color);\n",
              "      border-top-color: var(--fill-color);\n",
              "    }\n",
              "    60% {\n",
              "      border-color: transparent;\n",
              "      border-right-color: var(--fill-color);\n",
              "    }\n",
              "    80% {\n",
              "      border-color: transparent;\n",
              "      border-right-color: var(--fill-color);\n",
              "      border-bottom-color: var(--fill-color);\n",
              "    }\n",
              "    90% {\n",
              "      border-color: transparent;\n",
              "      border-bottom-color: var(--fill-color);\n",
              "    }\n",
              "  }\n",
              "</style>\n",
              "\n",
              "  <script>\n",
              "    async function quickchart(key) {\n",
              "      const quickchartButtonEl =\n",
              "        document.querySelector('#' + key + ' button');\n",
              "      quickchartButtonEl.disabled = true;  // To prevent multiple clicks.\n",
              "      quickchartButtonEl.classList.add('colab-df-spinner');\n",
              "      try {\n",
              "        const charts = await google.colab.kernel.invokeFunction(\n",
              "            'suggestCharts', [key], {});\n",
              "      } catch (error) {\n",
              "        console.error('Error during call to suggestCharts:', error);\n",
              "      }\n",
              "      quickchartButtonEl.classList.remove('colab-df-spinner');\n",
              "      quickchartButtonEl.classList.add('colab-df-quickchart-complete');\n",
              "    }\n",
              "    (() => {\n",
              "      let quickchartButtonEl =\n",
              "        document.querySelector('#df-0be89a08-f19f-4c65-9601-8c07cd0c36e2 button');\n",
              "      quickchartButtonEl.style.display =\n",
              "        google.colab.kernel.accessAllowed ? 'block' : 'none';\n",
              "    })();\n",
              "  </script>\n",
              "</div>\n",
              "\n",
              "    </div>\n",
              "  </div>\n"
            ],
            "application/vnd.google.colaboratory.intrinsic+json": {
              "type": "dataframe",
              "variable_name": "X",
              "summary": "{\n  \"name\": \"X\",\n  \"rows\": 10495,\n  \"fields\": [\n    {\n      \"column\": \"Year\",\n      \"properties\": {\n        \"dtype\": \"number\",\n        \"std\": 3,\n        \"min\": 1998,\n        \"max\": 2018,\n        \"num_unique_values\": 20,\n        \"samples\": [\n          2014,\n          2018,\n          2002\n        ],\n        \"semantic_type\": \"\",\n        \"description\": \"\"\n      }\n    },\n    {\n      \"column\": \"Mileage\",\n      \"properties\": {\n        \"dtype\": \"number\",\n        \"std\": 36791,\n        \"min\": 5,\n        \"max\": 232658,\n        \"num_unique_values\": 9913,\n        \"samples\": [\n          91918,\n          24261,\n          100093\n        ],\n        \"semantic_type\": \"\",\n        \"description\": \"\"\n      }\n    },\n    {\n      \"column\": \"M_Camry\",\n      \"properties\": {\n        \"dtype\": \"number\",\n        \"std\": 0,\n        \"min\": 0,\n        \"max\": 1,\n        \"num_unique_values\": 2,\n        \"samples\": [\n          1,\n          0\n        ],\n        \"semantic_type\": \"\",\n        \"description\": \"\"\n      }\n    },\n    {\n      \"column\": \"M_Camry4dr\",\n      \"properties\": {\n        \"dtype\": \"number\",\n        \"std\": 0,\n        \"min\": 0,\n        \"max\": 1,\n        \"num_unique_values\": 2,\n        \"samples\": [\n          1,\n          0\n        ],\n        \"semantic_type\": \"\",\n        \"description\": \"\"\n      }\n    },\n    {\n      \"column\": \"M_CamryBase\",\n      \"properties\": {\n        \"dtype\": \"number\",\n        \"std\": 0,\n        \"min\": 0,\n        \"max\": 1,\n        \"num_unique_values\": 2,\n        \"samples\": [\n          1,\n          0\n        ],\n        \"semantic_type\": \"\",\n        \"description\": \"\"\n      }\n    },\n    {\n      \"column\": \"M_CamryL\",\n      \"properties\": {\n        \"dtype\": \"number\",\n        \"std\": 0,\n        \"min\": 0,\n        \"max\": 1,\n        \"num_unique_values\": 2,\n        \"samples\": [\n          1,\n          0\n        ],\n        \"semantic_type\": \"\",\n        \"description\": \"\"\n      }\n    },\n    {\n      \"column\": \"M_CamryLE\",\n      \"properties\": {\n        \"dtype\": \"number\",\n        \"std\": 0,\n        \"min\": 0,\n        \"max\": 1,\n        \"num_unique_values\": 2,\n        \"samples\": [\n          1,\n          0\n        ],\n        \"semantic_type\": \"\",\n        \"description\": \"\"\n      }\n    },\n    {\n      \"column\": \"M_CamrySE\",\n      \"properties\": {\n        \"dtype\": \"number\",\n        \"std\": 0,\n        \"min\": 0,\n        \"max\": 1,\n        \"num_unique_values\": 2,\n        \"samples\": [\n          1,\n          0\n        ],\n        \"semantic_type\": \"\",\n        \"description\": \"\"\n      }\n    },\n    {\n      \"column\": \"M_CamryXLE\",\n      \"properties\": {\n        \"dtype\": \"number\",\n        \"std\": 0,\n        \"min\": 0,\n        \"max\": 1,\n        \"num_unique_values\": 2,\n        \"samples\": [\n          1,\n          0\n        ],\n        \"semantic_type\": \"\",\n        \"description\": \"\"\n      }\n    }\n  ]\n}"
            }
          },
          "metadata": {},
          "execution_count": 7
        }
      ],
      "source": [
        "data['M_Camry'] = pd.factorize(data.M_Camry)[0]\n",
        "data['M_Camry4dr'] = pd.factorize(data.M_Camry4dr)[0]\n",
        "data['M_CamryBase'] = pd.factorize(data.M_CamryBase)[0]\n",
        "data['M_CamryL'] = pd.factorize(data.M_CamryL)[0]\n",
        "data['M_CamryLE'] = pd.factorize(data.M_CamryLE)[0]\n",
        "data['M_CamrySE'] = pd.factorize(data.M_CamrySE)[0]\n",
        "data['M_CamryXLE'] = pd.factorize(data.M_CamryXLE)[0]\n",
        "# Separación de variables predictoras (X) y variable de interés (y)\n",
        "y = data['Price']\n",
        "X = data.drop(['Price'], axis=1)\n",
        "X.head()"
      ]
    },
    {
      "cell_type": "code",
      "execution_count": 8,
      "metadata": {
        "id": "hjhJA9Lnbb9v"
      },
      "outputs": [],
      "source": [
        "# Separación de datos en set de entrenamiento y test\n",
        "from sklearn.model_selection import train_test_split\n",
        "X_train, X_test, y_train, y_test = train_test_split(X, y, test_size=0.33, random_state=42)"
      ]
    },
    {
      "cell_type": "markdown",
      "metadata": {
        "id": "rWic1VDEbb9v"
      },
      "source": [
        "### Punto 1 - Árbol de decisión manual\n",
        "\n",
        "En la celda 1 creen un árbol de decisión **manualmente**  que considere los set de entrenamiento y test definidos anteriormente y presenten el RMSE y MAE del modelo en el set de test."
      ]
    },
    {
      "cell_type": "code",
      "execution_count": 42,
      "metadata": {
        "id": "JxTu8PArbb9w",
        "outputId": "b78fc60b-acdd-448b-bf21-43870d365749",
        "colab": {
          "base_uri": "https://localhost:8080/"
        }
      },
      "outputs": [
        {
          "output_type": "stream",
          "name": "stdout",
          "text": [
            "RMSE: 15113.767253661932\n",
            "MAE: 14598.966224018475\n"
          ]
        }
      ],
      "source": [
        "import numpy as np\n",
        "from sklearn.metrics import mean_squared_error, mean_absolute_error\n",
        "\n",
        "# Se definen los parámetros y criterios de parada\n",
        "max_depth = None\n",
        "num_pct = 10\n",
        "min_gain = 0.001\n",
        "max_features = None\n",
        "\n",
        "# función Gini\n",
        "def gini(y):\n",
        "    if y.shape[0] == 0:\n",
        "        return 0\n",
        "    else:\n",
        "        return 1 - (y.mean()**2 + (1 - y.mean())**2)\n",
        "\n",
        "# función de impureza de Gini\n",
        "def gini_impurity(X_col, y, split):\n",
        "    filter_l = X_col < split\n",
        "    y_l = y.loc[filter_l]\n",
        "    y_r = y.loc[~filter_l]\n",
        "    n_l = y_l.shape[0]\n",
        "    n_r = y_r.shape[0]\n",
        "    gini_y = gini(y)\n",
        "    gini_l = gini(y_l)\n",
        "    gini_r = gini(y_r)\n",
        "    gini_impurity_ = gini_y - (n_l / (n_l + n_r) * gini_l + n_r / (n_l + n_r) * gini_r)\n",
        "    return gini_impurity_\n",
        "\n",
        "# función para encontrar la mejor división\n",
        "def best_split(X, y, num_pct=10):\n",
        "    features = range(X.shape[1])\n",
        "    best_split = [0, 0, 0]  # j, split, gain\n",
        "    for j in features:\n",
        "        splits = np.percentile(X.iloc[:, j], np.arange(0, 100, 100.0 / (num_pct+1)).tolist())\n",
        "        splits = np.unique(splits)[1:]\n",
        "        for split in splits:\n",
        "            gain = gini_impurity(X.iloc[:, j], y, split)\n",
        "            if gain > best_split[2]:\n",
        "                best_split = [j, split, gain]\n",
        "    return best_split\n",
        "\n",
        "# función para hacer crecimiento recursivo del árbol\n",
        "def tree_grow(X, y, level=0, min_gain=0.001, max_depth=None, num_pct=10):\n",
        "    if X.shape[0] == 1:\n",
        "        tree = dict(y_pred=y.iloc[:1].values[0], y_prob=0.5, level=level, split=-1, n_samples=1, gain=0)\n",
        "        return tree\n",
        "    j, split, gain = best_split(X, y, num_pct)\n",
        "    y_pred = int(y.mean() >= 0.5)\n",
        "    y_prob = (y.sum() + 1.0) / (y.shape[0] + 2.0)  # Corrección Laplace\n",
        "    tree = dict(y_pred=y_pred, y_prob=y_prob, level=level, split=-1, n_samples=X.shape[0], gain=gain)\n",
        "    if gain < min_gain:\n",
        "        return tree\n",
        "    if max_depth is not None:\n",
        "        if level >= max_depth:\n",
        "            return tree\n",
        "    filter_l = X.iloc[:, j] < split\n",
        "    X_l, y_l = X.loc[filter_l], y.loc[filter_l]\n",
        "    X_r, y_r = X.loc[~filter_l], y.loc[~filter_l]\n",
        "    tree['split'] = [j, split]\n",
        "    tree['sl'] = tree_grow(X_l, y_l, level + 1, min_gain=min_gain, max_depth=max_depth, num_pct=num_pct)\n",
        "    tree['sr'] = tree_grow(X_r, y_r, level + 1, min_gain=min_gain, max_depth=max_depth, num_pct=num_pct)\n",
        "    return tree\n",
        "\n",
        "# función tree_grow aplicada al conjunto de entrenamiento (se utiliza una profundidad máxima de 3)\n",
        "tree = tree_grow(X_train, y_train, level=0, min_gain=min_gain, max_depth=3, num_pct=num_pct)\n",
        "\n",
        "# Definición de la función para hacer predicciones usando el árbol creado\n",
        "def tree_predict(X, tree):\n",
        "    predicted = np.ones(X.shape[0])\n",
        "    if tree['split'] == -1:\n",
        "        predicted = predicted * tree['y_pred']\n",
        "    else:\n",
        "        j, split = tree['split']\n",
        "        filter_l = (X.iloc[:, j] < split)\n",
        "        X_l = X.loc[filter_l]\n",
        "        X_r = X.loc[~filter_l]\n",
        "        if X_l.shape[0] == 0:\n",
        "            predicted[~filter_l] = tree_predict(X_r, tree['sr'])\n",
        "        elif X_r.shape[0] == 0:\n",
        "            predicted[filter_l] = tree_predict(X_l, tree['sl'])\n",
        "        else:\n",
        "            predicted[filter_l] = tree_predict(X_l, tree['sl'])\n",
        "            predicted[~filter_l] = tree_predict(X_r, tree['sr'])\n",
        "    return predicted\n",
        "\n",
        "# Ejecución de función tree_predict en el conjunto de prueba\n",
        "y_pred = tree_predict(X_test, tree)\n",
        "\n",
        "# Cálculo de RMSE y MAE\n",
        "rmse = np.sqrt(mean_squared_error(y_test, y_pred))\n",
        "mae = mean_absolute_error(y_test, y_pred)\n",
        "\n",
        "print(\"RMSE:\", rmse)\n",
        "print(\"MAE:\", mae)"
      ]
    },
    {
      "cell_type": "markdown",
      "metadata": {
        "id": "RxNslTalbb9x"
      },
      "source": [
        "### Punto 2 - Bagging manual\n",
        "\n",
        "En la celda 2 creen un modelo bagging **manualmente** con 10 árboles de regresión y comenten sobre el desempeño del modelo."
      ]
    },
    {
      "cell_type": "code",
      "execution_count": 43,
      "metadata": {
        "id": "7gfhQtHpbb9x",
        "colab": {
          "base_uri": "https://localhost:8080/"
        },
        "outputId": "8ffcf4af-fcd2-4f81-f151-8d02dfd66a96"
      },
      "outputs": [
        {
          "output_type": "stream",
          "name": "stdout",
          "text": [
            "Error RMSE de cada árbol: [2146.0273288250455, 2113.477149810103, 2122.825083832615, 2094.105164088424, 2169.5232943483174, 2106.346181723392, 2140.288987729451, 2188.192810449038, 2137.926119080735, 2133.036378595478]\n",
            "Error RMSE del ensamblaje: 1799.1353189966887\n"
          ]
        }
      ],
      "source": [
        "# Configuración del modelo Bagging\n",
        "np.random.seed(123)\n",
        "n_samples = X_train.shape[0]\n",
        "n_B = 10  # Número de árboles\n",
        "samples = [np.random.choice(a=n_samples, size=n_samples, replace=True) for _ in range(n_B)]\n",
        "models = [DecisionTreeRegressor(max_depth=None, random_state=123 + i) for i in range(n_B)]\n",
        "y_preds = pd.DataFrame(index=y_test.index, columns=[list(range(n_B))])\n",
        "\n",
        "# Entrenar cada árbol y recoger las predicciones\n",
        "for i, sample in enumerate(samples):\n",
        "    X_train_bs = X_train.iloc[sample]\n",
        "    y_train_bs = y_train.iloc[sample]\n",
        "    models[i].fit(X_train_bs, y_train_bs)\n",
        "    y_preds.iloc[:, i] = models[i].predict(X_test)\n",
        "\n",
        "# Calcular el error RMSE para cada árbol\n",
        "errors = [np.sqrt(mean_squared_error(y_test, y_preds.iloc[:, i])) for i in range(n_B)]\n",
        "print(\"Error RMSE de cada árbol:\", errors)\n",
        "\n",
        "# Calcular el error RMSE del ensamblaje\n",
        "y_pred_final = y_preds.mean(axis=1)\n",
        "error_ensemble = np.sqrt(mean_squared_error(y_test, y_pred_final))\n",
        "print(\"Error RMSE del ensamblaje:\", error_ensemble)"
      ]
    },
    {
      "cell_type": "markdown",
      "source": [
        "## **Análisis de Resultados**\n",
        "**Errores RMSE de Cada Árbol:** Los errores RMSE individuales para cada uno de los 10 árboles varían entre 2094 y 2188. Estos valores muestran que, aunque cada árbol tiene un rendimiento razonable, hay cierta variabilidad entre ellos, lo cual es esperado en el Bagging debido al muestreo con reemplazo (bootstrap).\n",
        "\n",
        "**Error RMSE del Ensamblaje:** El error RMSE del modelo de ensamblaje es 1799.14, que es notablemente menor que los errores de los árboles individuales. Esto demuestra el beneficio principal del Bagging: al combinar múltiples modelos que pueden tener sobreajustes o errores en diferentes partes del espacio de datos, el ensamble puede generalizar mejor y reducir el error total."
      ],
      "metadata": {
        "id": "waF704KhMqhq"
      }
    },
    {
      "cell_type": "markdown",
      "metadata": {
        "id": "fuM5TYcWbb9y"
      },
      "source": [
        "### Punto 3 - Bagging con librería\n",
        "\n",
        "En la celda 3, con la librería sklearn, entrenen un modelo bagging con 10 árboles de regresión y el parámetro `max_features` igual a `log(n_features)` y comenten sobre el desempeño del modelo."
      ]
    },
    {
      "cell_type": "code",
      "execution_count": 45,
      "metadata": {
        "id": "ABoLxRTNbb9y",
        "colab": {
          "base_uri": "https://localhost:8080/"
        },
        "outputId": "b80a00fb-be3b-4d36-faca-210bb20e610b"
      },
      "outputs": [
        {
          "output_type": "stream",
          "name": "stdout",
          "text": [
            "El error RMSE del modelo Bagging es: 2591.1421447895973\n"
          ]
        }
      ],
      "source": [
        "# Calculamos log(n_features) para el parámetro max_features\n",
        "n_features = X_train.shape[1]\n",
        "max_features = int(np.log(n_features))\n",
        "\n",
        "# Configuración e inicialización del BaggingRegressor con 10 árboles\n",
        "bagreg = BaggingRegressor(\n",
        "    base_estimator=DecisionTreeRegressor(),\n",
        "    n_estimators=500,\n",
        "    bootstrap=True,\n",
        "    max_features=max_features,  # Establecer max_features a log(n_features)\n",
        "    random_state=1\n",
        ")\n",
        "\n",
        "# Entrenamiento del modelo con el conjunto de entrenamiento\n",
        "bagreg.fit(X_train, y_train)\n",
        "\n",
        "# Predicción sobre el conjunto de prueba\n",
        "y_pred = bagreg.predict(X_test)\n",
        "\n",
        "# Cálculo del error RMSE del modelo\n",
        "error_rmse = np.sqrt(mean_squared_error(y_test, y_pred))\n",
        "print(f\"El error RMSE del modelo Bagging es: {error_rmse}\")"
      ]
    },
    {
      "cell_type": "markdown",
      "source": [
        "## **Análisis de Resultados**\n",
        "\n",
        "**Error RMSE de $2591.00:** Este valor sugiere un rendimiento moderado, lo que indica que las predicciones están razonablemente cerca de los valores reales, considerando la variabilidad típica en los precios de los vehículos.\n",
        "\n",
        "\n",
        "### **Factores que Pueden Influenciar estos Resultados**\n",
        "\n",
        "**Diversidad del Modelo:** Usar max_features=log(n_features) busca aumentar la diversidad entre los árboles, lo que normalmente ayuda, pero si limita demasiado las características utilizadas, podría reducir la eficacia del modelo.\n",
        "\n",
        "**Datos Atípicos y Distribución:** La presencia de datos atípicos o una distribución desequilibrada de los precios podría afectar significativamente el RMSE."
      ],
      "metadata": {
        "id": "HOv-JOk4LzFG"
      }
    },
    {
      "cell_type": "markdown",
      "metadata": {
        "id": "FPZKanV2bb9y"
      },
      "source": [
        "### Punto 4 - Random forest con librería\n",
        "\n",
        "En la celda 4, usando la librería sklearn entrenen un modelo de Randon Forest para regresión  y comenten sobre el desempeño del modelo."
      ]
    },
    {
      "cell_type": "code",
      "source": [
        "reg = RandomForestRegressor(random_state=42)\n",
        "\n",
        "reg.fit(X_train, y_train)\n",
        "\n",
        "y_pred = reg.predict(X_test)\n",
        "\n",
        "mse_rf = mean_squared_error(y_test, y_pred)\n",
        "\n",
        "# Calcular el Error Cuadrático Medio de la Raíz (RMSE)\n",
        "rmse_rf = np.sqrt(mse_rf)\n",
        "\n",
        "print(\"RMSE Random Forest:\", rmse_rf)"
      ],
      "metadata": {
        "colab": {
          "base_uri": "https://localhost:8080/"
        },
        "id": "LVHsCxueunO4",
        "outputId": "7aefcb1e-ff1b-450f-ea1c-4120fe1f3912"
      },
      "execution_count": 13,
      "outputs": [
        {
          "output_type": "stream",
          "name": "stdout",
          "text": [
            "RMSE Random Forest: 1765.2118433899484\n"
          ]
        }
      ]
    },
    {
      "cell_type": "code",
      "source": [
        "# Impresión de desempeño del modelo usando la función cross_val_score\n",
        "pd.Series(cross_val_score(reg, X_train, y_train, cv=10, scoring='neg_mean_absolute_error')).describe()"
      ],
      "metadata": {
        "colab": {
          "base_uri": "https://localhost:8080/"
        },
        "id": "HiKXS9hGvMNl",
        "outputId": "560893b6-5dc8-472b-b57b-7d85b2437e0e"
      },
      "execution_count": 14,
      "outputs": [
        {
          "output_type": "execute_result",
          "data": {
            "text/plain": [
              "count      10.000000\n",
              "mean    -1304.134762\n",
              "std        52.707927\n",
              "min     -1377.003943\n",
              "25%     -1356.724122\n",
              "50%     -1293.704071\n",
              "75%     -1260.343212\n",
              "max     -1242.145716\n",
              "dtype: float64"
            ]
          },
          "metadata": {},
          "execution_count": 14
        }
      ]
    },
    {
      "cell_type": "markdown",
      "source": [
        "## **Análisis de Resultados**\n",
        "\n",
        "Se utiliza la metrica de MAE (Mean Absolute Error) para comparar el desempeño del modelo usando Cross Validation. Esta metrica nos permite ver que tan cerca estan nuestars predicciones del valor real. Se utiliza el valor negativo de MAE ya que al usar cross_val_score con scikit-learn para evaluar modelos de regresión, la convención es que las métricas de puntuación más altas son mejores, por lo tanto para mantener la logica se scikit-learn se evalua el valor negativo de esta forma un valor alto (cercano a 0, teniendo en cuenta el valor negativo) sera mejor.\n",
        "\n",
        "**El modelo nos genera un MSE en promedio de 1765.21**, lo que indica que en promedio nuestras predicciones estan desfazadas 1765 del valor real"
      ],
      "metadata": {
        "id": "ML408rE6_Suk"
      }
    },
    {
      "cell_type": "markdown",
      "metadata": {
        "id": "RMfLPE9mbb9z"
      },
      "source": [
        "### Punto 5 - Calibración de parámetros Random forest\n",
        "\n",
        "En la celda 5, calibren los parámetros max_depth, max_features y n_estimators del modelo de Randon Forest para regresión, comenten sobre el desempeño del modelo y describan cómo cada parámetro afecta el desempeño del modelo."
      ]
    },
    {
      "cell_type": "code",
      "execution_count": 48,
      "metadata": {
        "id": "iWTklpQwbb9z",
        "colab": {
          "base_uri": "https://localhost:8080/",
          "height": 467
        },
        "outputId": "1ff908c0-76b1-4048-d801-066840f0d24a"
      },
      "outputs": [
        {
          "output_type": "execute_result",
          "data": {
            "text/plain": [
              "Text(0, 0.5, 'neg_mae')"
            ]
          },
          "metadata": {},
          "execution_count": 48
        },
        {
          "output_type": "display_data",
          "data": {
            "text/plain": [
              "<Figure size 640x480 with 1 Axes>"
            ],
            "image/png": "[encoded data removed]"
          },
          "metadata": {}
        }
      ],
      "source": [
        "# Calibración de n_estimators\n",
        "estimator_range = range(10, 310, 10)\n",
        "mae_scores = []\n",
        "for estimator in estimator_range:\n",
        "    clf = RandomForestRegressor(n_estimators=estimator, random_state=1, n_jobs=-1)\n",
        "    mae_scores.append(cross_val_score(clf, X_train, y_train, cv=5, scoring='neg_mean_absolute_error').mean())\n",
        "\n",
        "# Gráfica del desempeño del modelo vs la cantidad de n_estimators\n",
        "plt.plot(estimator_range, mae_scores)\n",
        "plt.xlabel('n_estimators')\n",
        "plt.ylabel('neg_mae')"
      ]
    },
    {
      "cell_type": "code",
      "source": [
        "# Calibracióm max_features\n",
        "feature_range = range(1, X_train.shape[1]+1)\n",
        "\n",
        "mae_scores = []\n",
        "\n",
        "for feature in feature_range:\n",
        "    clf = RandomForestRegressor(n_estimators=200, max_features=feature, random_state=1, n_jobs=-1)\n",
        "    mae_scores.append(cross_val_score(clf, X_train, y_train, cv=5, scoring='neg_mean_absolute_error').mean())\n",
        "\n",
        "# Gráfica del desempeño del modelo vs la cantidad de max_features\n",
        "plt.plot(feature_range, mae_scores)\n",
        "plt.xlabel('max_features')\n",
        "plt.ylabel('neg_mae')"
      ],
      "metadata": {
        "colab": {
          "base_uri": "https://localhost:8080/",
          "height": 467
        },
        "id": "BhCE6Dne_ihx",
        "outputId": "cdec2b2b-fd84-47ed-e3e5-a823480ef7a8"
      },
      "execution_count": 49,
      "outputs": [
        {
          "output_type": "execute_result",
          "data": {
            "text/plain": [
              "Text(0, 0.5, 'neg_mae')"
            ]
          },
          "metadata": {},
          "execution_count": 49
        },
        {
          "output_type": "display_data",
          "data": {
            "text/plain": [
              "<Figure size 640x480 with 1 Axes>"
            ],
            "image/png": "[encoded data removed]"
          },
          "metadata": {}
        }
      ]
    },
    {
      "cell_type": "markdown",
      "source": [
        "Se puede observar de las graficas que con n_estimators gual a 50 se logra una mejora significatica en el MSE, ya despues de este valor el incremento del MSE no es tan significativo. Aunque podemos ver con con alrededor de 250 arboles tenemos un valor de MAE tambien bueno, tener tantos arboles podria generar un sobreajuste haciendo que nuestro modelo no tenga una capacidad de prediccion buena sobre otro set de datos diferente al de entranamiento.\n",
        "\n",
        "En relacion al parametro de max_features, podemos evidenciar que con 9 variables se tiene el mejor desempeño, con un MAE de 1297. Pero a pesar de que esto sea verdad le estaríamos quitando el foco del random forest que es tener aleatoriedad en el número de variables a usar."
      ],
      "metadata": {
        "id": "LdHLVrSKACKJ"
      }
    },
    {
      "cell_type": "code",
      "source": [
        "#Implementación de un Random Forest con los mejores parámetros\n",
        "random_forest = RandomForestRegressor(n_estimators=50, max_features=9, random_state=1, n_jobs=-1)\n",
        "random_forest.fit(X_train, y_train)\n",
        "\n",
        "y_pred = random_forest.predict(X_test)\n",
        "mse_random_forest = mean_squared_error(y_test, y_pred)\n",
        "# Calcular el Error Cuadrático Medio de la Raíz (RMSE)\n",
        "rmse_random_forest = np.sqrt(mse_random_forest)\n",
        "\n",
        "print(\"RMSE sobre datos de prueba:\", rmse_random_forest)"
      ],
      "metadata": {
        "colab": {
          "base_uri": "https://localhost:8080/"
        },
        "id": "2o9Cw-4CAKAP",
        "outputId": "6e193c6f-098c-48a4-e071-59b7a502bcc2"
      },
      "execution_count": 54,
      "outputs": [
        {
          "output_type": "stream",
          "name": "stdout",
          "text": [
            "RMSE sobre datos de prueba: 1757.1326718029936\n"
          ]
        }
      ]
    },
    {
      "cell_type": "markdown",
      "source": [
        "Si bien el modelo mejoró su desempeño, la mejora no es significativa."
      ],
      "metadata": {
        "id": "2uTaoeTSvpyJ"
      }
    },
    {
      "cell_type": "markdown",
      "metadata": {
        "id": "rvu2EUBKbb90"
      },
      "source": [
        "### Punto 6 - XGBoost con librería\n",
        "\n",
        "En la celda 6 implementen un modelo XGBoost de regresión con la librería sklearn y comenten sobre el desempeño del modelo."
      ]
    },
    {
      "cell_type": "code",
      "execution_count": 9,
      "metadata": {
        "id": "czwgfc1ebb90",
        "colab": {
          "base_uri": "https://localhost:8080/"
        },
        "outputId": "25e7f8ab-dbcf-4fc7-cbaa-20e55f590ceb"
      },
      "outputs": [
        {
          "output_type": "stream",
          "name": "stdout",
          "text": [
            "RMSE XGBoost: 1605.2355199928948\n"
          ]
        }
      ],
      "source": [
        "reg = XGBRegressor(random_state=1, n_estimators=100)\n",
        "\n",
        "reg.fit(X_train, y_train)\n",
        "y_pred = reg.predict(X_test)\n",
        "\n",
        "mse_xgboost = mean_squared_error(y_test, y_pred)\n",
        "\n",
        "# Calcular el Error Cuadrático Medio de la Raíz (RMSE)\n",
        "rmse_xgboost_without_tunning = np.sqrt(mse_xgboost)\n",
        "\n",
        "print(\"RMSE XGBoost:\", rmse_xgboost_without_tunning)"
      ]
    },
    {
      "cell_type": "markdown",
      "source": [
        "## **Análisis de Resultados**\n",
        "\n",
        "El modelo de XGBoost sin calibrar nos da un RMSE de 1605, que es menor al RMSE del modelo Random Forest sin calibrar.\n",
        "\n",
        "Esto significa que, en promedio, las predicciones de XGBoost sin calibrar están más cerca de los valores reales que las predicciones de Random Forest sin calibrar, incluso que el random Forest calibrado."
      ],
      "metadata": {
        "id": "0lSrzSxWrq7v"
      }
    },
    {
      "cell_type": "markdown",
      "metadata": {
        "id": "_a6rP-q9bb90"
      },
      "source": [
        "### Punto 7 - Calibración de parámetros XGBoost\n",
        "\n",
        "En la celda 7 calibren los parámetros learning rate, gamma y colsample_bytree del modelo XGBoost para regresión, comenten sobre el desempeño del modelo y describan cómo cada parámetro afecta el desempeño del modelo."
      ]
    },
    {
      "cell_type": "code",
      "source": [
        "from sklearn.model_selection import GridSearchCV\n",
        "\n",
        "gamma_range = [0.01, 0.1, 1.0, 10.0]\n",
        "lr_range = [0.01, 0.05, 0.1, 0.2, 0.3]\n",
        "colsample_range = [0.5, 0.6, 0.7, 0.8, 0.9, 1.0]\n",
        "\n",
        "\n",
        "grid_search_params = {\n",
        "    'gamma': gamma_range,\n",
        "    'learning_rate': lr_range,\n",
        "    'colsample_bytree': colsample_range\n",
        "}\n",
        "\n",
        "model = XGBRegressor(objective='reg:squarederror', random_state=1, n_jobs=-1)\n",
        "\n",
        "grid = GridSearchCV(estimator=model, param_grid=grid_search_params, scoring='neg_mean_squared_error', cv=4, verbose=1)\n",
        "grid.fit(X_train, y_train)\n",
        "\n",
        "print(grid.best_params_)"
      ],
      "metadata": {
        "colab": {
          "base_uri": "https://localhost:8080/"
        },
        "id": "_cfo6Usfsw-R",
        "outputId": "533e5a1a-0437-432d-9d1a-d7c1114b9667"
      },
      "execution_count": 10,
      "outputs": [
        {
          "output_type": "stream",
          "name": "stdout",
          "text": [
            "Fitting 4 folds for each of 120 candidates, totalling 480 fits\n",
            "{'colsample_bytree': 0.7, 'gamma': 0.01, 'learning_rate': 0.05}\n"
          ]
        }
      ]
    },
    {
      "cell_type": "markdown",
      "source": [
        "Ya encontramos los valores óptimos de los parámetros. Ahora vamos a ver cómo se comporta cad auno de ellos por separado"
      ],
      "metadata": {
        "id": "w1STQVCbv5da"
      }
    },
    {
      "cell_type": "code",
      "execution_count": 15,
      "metadata": {
        "id": "XMq6BWgkbb90",
        "colab": {
          "base_uri": "https://localhost:8080/",
          "height": 489
        },
        "outputId": "bc43af38-b983-4c40-d528-e7ac904e869e"
      },
      "outputs": [
        {
          "output_type": "execute_result",
          "data": {
            "text/plain": [
              "Text(0.5, 1.0, 'Desempeño del modelo vs gamma')"
            ]
          },
          "metadata": {},
          "execution_count": 15
        },
        {
          "output_type": "display_data",
          "data": {
            "text/plain": [
              "<Figure size 640x480 with 1 Axes>"
            ],
            "image/png": "[encoded data removed]"
          },
          "metadata": {}
        }
      ],
      "source": [
        "# Calibración de gamma\n",
        "from sklearn.model_selection import cross_val_score\n",
        "gamma_values = [0.01, 0.1, 1.0, 10.0]\n",
        "mae_scores_gamma = []\n",
        "for gamma in gamma_values:\n",
        "    clf = XGBRegressor(gamma=gamma, random_state=1, n_jobs=-1)\n",
        "    mae_scores_gamma.append(cross_val_score(clf, X_train, y_train, cv=5, scoring='neg_mean_absolute_error').mean())\n",
        "\n",
        "# Gráfica del desempeño del modelo vs el valor de gamma\n",
        "plt.plot(gamma_values, mae_scores_gamma)\n",
        "plt.xlabel('gamma')\n",
        "plt.ylabel('neg_mae')\n",
        "plt.title('Desempeño del modelo vs gamma')"
      ]
    },
    {
      "cell_type": "code",
      "source": [
        "# Calibración de learning rate\n",
        "learning_rates = [0.01, 0.05, 0.1, 0.2, 0.3]\n",
        "mae_scores_lr = []\n",
        "for lr in learning_rates:\n",
        "    clf = XGBRegressor(learning_rate=lr, random_state=1, n_jobs=-1)\n",
        "    mae_scores_lr.append(cross_val_score(clf, X_train, y_train, cv=5, scoring='neg_mean_absolute_error').mean())\n",
        "\n",
        "# Gráfica del desempeño del modelo vs learning rate\n",
        "plt.figure()\n",
        "plt.plot(learning_rates, mae_scores_lr)\n",
        "plt.xlabel('learning_rate')\n",
        "plt.ylabel('neg_mae')\n",
        "plt.title('Desempeño del modelo vs learning rate')"
      ],
      "metadata": {
        "colab": {
          "base_uri": "https://localhost:8080/",
          "height": 489
        },
        "id": "_iK1ZW9Z8RzR",
        "outputId": "c2aee140-1732-44b3-c4a8-115afa357661"
      },
      "execution_count": 16,
      "outputs": [
        {
          "output_type": "execute_result",
          "data": {
            "text/plain": [
              "Text(0.5, 1.0, 'Desempeño del modelo vs learning rate')"
            ]
          },
          "metadata": {},
          "execution_count": 16
        },
        {
          "output_type": "display_data",
          "data": {
            "text/plain": [
              "<Figure size 640x480 with 1 Axes>"
            ],
            "image/png": "[encoded data removed]"
          },
          "metadata": {}
        }
      ]
    },
    {
      "cell_type": "code",
      "source": [
        "# Calibración de colsample_bytree\n",
        "colsample_bytree_values = [0.5, 0.6, 0.7, 0.8, 0.9, 1.0]\n",
        "mae_scores_colsample = []\n",
        "for colsample in colsample_bytree_values:\n",
        "    clf = XGBRegressor(colsample_bytree=colsample, random_state=1, n_jobs=-1)\n",
        "    mae_scores_colsample.append(cross_val_score(clf, X_train, y_train, cv=5, scoring='neg_mean_absolute_error').mean())\n",
        "\n",
        "# Gráfica del desempeño del modelo vs colsample_bytree\n",
        "plt.figure()\n",
        "plt.plot(colsample_bytree_values, mae_scores_colsample)\n",
        "plt.xlabel('colsample_bytree')\n",
        "plt.ylabel('neg_mae')\n",
        "plt.title('Desempeño del modelo vs colsample_bytree')"
      ],
      "metadata": {
        "colab": {
          "base_uri": "https://localhost:8080/",
          "height": 489
        },
        "id": "c2L-8KMr8Yf-",
        "outputId": "f14591f5-7556-47f3-ebc3-9b8e9dcc5b1f"
      },
      "execution_count": 17,
      "outputs": [
        {
          "output_type": "execute_result",
          "data": {
            "text/plain": [
              "Text(0.5, 1.0, 'Desempeño del modelo vs colsample_bytree')"
            ]
          },
          "metadata": {},
          "execution_count": 17
        },
        {
          "output_type": "display_data",
          "data": {
            "text/plain": [
              "<Figure size 640x480 with 1 Axes>"
            ],
            "image/png": "[encoded data removed]"
          },
          "metadata": {}
        }
      ]
    },
    {
      "cell_type": "code",
      "source": [
        "reg = XGBRegressor(colsample_bytree=0.7, learning_rate=0.05, gamma_values=0.01)\n",
        "\n",
        "reg.fit(X_train, y_train)\n",
        "y_pred = reg.predict(X_test)\n",
        "\n",
        "mse_xgboost = mean_squared_error(y_test, y_pred)\n",
        "\n",
        "# Calcular el Error Cuadrático Medio de la Raíz (RMSE)\n",
        "rmse_xgboost = np.sqrt(mse_xgboost)\n",
        "\n",
        "print(\"RMSE XGBoost:\", rmse_xgboost)"
      ],
      "metadata": {
        "colab": {
          "base_uri": "https://localhost:8080/"
        },
        "id": "pUEMAeZK9FPe",
        "outputId": "4b187913-6280-4cc7-a115-12507459068a"
      },
      "execution_count": 18,
      "outputs": [
        {
          "output_type": "stream",
          "name": "stdout",
          "text": [
            "RMSE XGBoost: 1546.2337440494284\n"
          ]
        }
      ]
    },
    {
      "cell_type": "markdown",
      "source": [
        "## **Análisis de Resultados**\n",
        "\n",
        "Al calibrar el modelo de XGBoost nos da un RMSE de 1546,2, que es menor al RMSE del modelo modelo sin calibrar. Lo que sugiere que hemos encontrado unos parámetros más óptimos para el modelo"
      ],
      "metadata": {
        "id": "arI8EswowJBa"
      }
    },
    {
      "cell_type": "markdown",
      "metadata": {
        "id": "KoNP0So7bb91"
      },
      "source": [
        "### Punto 8 - Comparación y análisis de resultados\n",
        "En la celda 8 comparen los resultados obtenidos de los diferentes modelos (random forest y XGBoost) y comenten las ventajas del mejor modelo y las desventajas del modelo con el menor desempeño."
      ]
    },
    {
      "cell_type": "code",
      "execution_count": 19,
      "metadata": {
        "id": "NuUtpw9rbb91",
        "colab": {
          "base_uri": "https://localhost:8080/",
          "height": 487
        },
        "outputId": "98b1240c-3a45-47c3-b8fb-d228830a93fe"
      },
      "outputs": [
        {
          "output_type": "display_data",
          "data": {
            "text/plain": [
              "<Figure size 640x480 with 1 Axes>"
            ],
            "image/png": "[encoded data removed]"
          },
          "metadata": {}
        }
      ],
      "source": [
        "# Errores\n",
        "models = ['Random Forest Calibrado', 'XGBoost Calibrado']\n",
        "errors = [rmse_rf, rmse_xgboost]\n",
        "\n",
        "# Sorting\n",
        "sorted_indices = np.argsort(errors)\n",
        "sorted_models = [models[idx] for idx in sorted_indices]\n",
        "sorted_errors = [errors[idx] for idx in sorted_indices]\n",
        "\n",
        "# Colores\n",
        "colors = plt.cm.viridis(np.linspace(0, 1, len(sorted_models)))\n",
        "\n",
        "# Crear el plot\n",
        "fig, ax = plt.subplots()\n",
        "ax.set_title(\"Comparación de errores\", fontsize=16, fontweight='bold')\n",
        "ax.set_xlabel(\"Modelo\", fontsize=14)\n",
        "ax.set_ylabel(\"RMSE\", fontsize=14)\n",
        "ax.bar(sorted_models, sorted_errors, color=colors)\n",
        "\n",
        "# Etiquetas de datos\n",
        "for i, v in enumerate(sorted_errors):\n",
        "    ax.text(i, v + 0.005, f\"{v:.4f}\", ha='center', va='bottom', fontsize=12, color='black')\n",
        "\n",
        "# Layout\n",
        "plt.tight_layout()\n",
        "\n",
        "# Mostrar el plot\n",
        "plt.show()"
      ]
    },
    {
      "cell_type": "markdown",
      "source": [
        "## **Conclusiones**\n",
        "\n",
        "- El modelo de XGBoost para este caso tiene un mejor desempeño que el modelo random Forest\n",
        "\n",
        "**Ventajas del modelo XGBoost:**\n",
        "- Mejor manejo de datos complejos: XGBoost es capaz de manejar mejor conjuntos de datos con características no lineales e interacciones complejas entre ellas.\n",
        "- Regularización incorporada: XGBoost cuenta con mecanismos de regularización integrados que ayudan a prevenir el sobreajuste y mejorar la generalización del modelo.\n",
        "- Admite valores nulos: No se ve tan afectado por los valores nulos en la base de datos\n",
        "\n",
        "**Desventajas del modelo Random Forest:**\n",
        "- Sobreajuste rápido: Esto significa que el modelo aprende los detalles específicos del conjunto de entrenamiento pero no generaliza bien a nuevos datos no vistos.\n",
        "- Falta de interpretabilidad: Esto se debe a que son conjuntos de muchos árboles de decisión individuales, y puede ser difícil entender cómo un árbol de decisión específico contribuye a la predicción general.\n",
        "- Sensibilidad a valores atípicos: Esto se debe a que los árboles de decisión individuales en el bosque pueden dar un peso excesivo a estos puntos.\n",
        "\n",
        "Cabe resaltar que esto no es una ley universal y no significa que en todos los casos vayamos a encontrar que el XGBoost es mejor que el Random Forest. Debemos tener el cuenta el contexto y la naturaleza de las variables a utilizar, y el problema que estamos resolviendo."
      ],
      "metadata": {
        "id": "RtxuaGJtwr9d"
      }
    }
  ],
  "metadata": {
    "kernelspec": {
      "display_name": "Python 3 (ipykernel)",
      "language": "python",
      "name": "python3"
    },
    "language_info": {
      "codemirror_mode": {
        "name": "ipython",
        "version": 3
      },
      "file_extension": ".py",
      "mimetype": "text/x-python",
      "name": "python",
      "nbconvert_exporter": "python",
      "pygments_lexer": "ipython3",
      "version": "3.9.12"
    },
    "colab": {
      "provenance": []
    }
  },
  "nbformat": 4,
  "nbformat_minor": 0
}